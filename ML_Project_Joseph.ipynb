{
 "cells": [
  {
   "cell_type": "code",
   "execution_count": 3,
   "id": "2a0bbb8a-9be1-4afa-8a2a-f86bf91c4694",
   "metadata": {},
   "outputs": [
    {
     "name": "stdout",
     "output_type": "stream",
     "text": [
      "<class 'pandas.core.frame.DataFrame'>\n",
      "RangeIndex: 272630 entries, 0 to 272629\n",
      "Data columns (total 8 columns):\n",
      " #   Column                 Non-Null Count   Dtype  \n",
      "---  ------                 --------------   -----  \n",
      " 0   StartDateTime          272630 non-null  object \n",
      " 1   StartLat               272630 non-null  float64\n",
      " 2   StartLon               272630 non-null  float64\n",
      " 3   EndDateTime            272630 non-null  object \n",
      " 4   EndLat                 272630 non-null  float64\n",
      " 5   EndLon                 272630 non-null  float64\n",
      " 6   Distance               272630 non-null  float64\n",
      " 7   anonymized_vehicle_id  272630 non-null  object \n",
      "dtypes: float64(5), object(3)\n",
      "memory usage: 16.6+ MB\n"
     ]
    },
    {
     "data": {
      "text/plain": [
       "(          StartDateTime   StartLat   StartLon           EndDateTime  \\\n",
       " 0  2024-03-12T00:00:00Z  25.281368  55.332993  2024-03-12T00:06:09Z   \n",
       " 1  2024-03-12T00:00:00Z  25.254010  55.330334  2024-03-12T00:32:37Z   \n",
       " 2  2024-03-12T00:00:00Z  25.270855  55.330566  2024-03-12T00:04:41Z   \n",
       " 3  2024-03-12T00:00:01Z  25.270340  55.321148  2024-03-12T00:12:53Z   \n",
       " 4  2024-03-12T00:00:00Z  25.185345  55.261173  2024-03-12T00:13:12Z   \n",
       " \n",
       "       EndLat     EndLon  Distance  \\\n",
       " 0  25.272163  55.316063     2.236   \n",
       " 1  25.003492  55.163070    41.466   \n",
       " 2  25.277420  55.313810     2.345   \n",
       " 3  25.256950  55.293510     7.088   \n",
       " 4  25.240814  55.366875    16.542   \n",
       " \n",
       "                                anonymized_vehicle_id  \n",
       " 0  192d68997c90f9e4f8fff3261263919495cb478f87afc2...  \n",
       " 1  4daee81583bcd87e31406019500503c6a107bfe14a85df...  \n",
       " 2  3a9de8e9ab90d7d0af172c0a76904ac429335a6a3bdfa1...  \n",
       " 3  9252c6c5b73eb70dc17a54c638cfd22df2e047ff3b009b...  \n",
       " 4  7cccdc4f24376ede9e73b3f597c85ceb7597ab95498205...  ,\n",
       " None)"
      ]
     },
     "execution_count": 3,
     "metadata": {},
     "output_type": "execute_result"
    }
   ],
   "source": [
    "import pandas as pd\n",
    "\n",
    "# Load the dataset\n",
    "data = pd.read_csv(\"RTA_Anonymous_Journies.csv\")\n",
    "\n",
    "# Display the first few rows of the dataset to understand its structure\n",
    "data.head(), data.info()"
   ]
  },
  {
   "cell_type": "code",
   "execution_count": 4,
   "id": "5cf11190-edbe-4e22-bfb8-246bea6139ab",
   "metadata": {},
   "outputs": [
    {
     "data": {
      "text/plain": [
       "(array([[ 0.22766468,  0.01873081,  0.38274215,  0.0480166 , -0.66114883],\n",
       "        [-0.35071134, -0.34875448, -0.60570663, -0.22850332, -0.36936732],\n",
       "        [ 0.10089602,  0.57441149,  0.00830294,  0.48544424, -0.39607073],\n",
       "        [ 0.00436806,  0.66865559,  0.08807218,  0.64376111, -0.54157879],\n",
       "        [ 0.55558623,  0.41609926,  0.50271701,  0.09868013, -0.1639892 ]]),\n",
       " 25091     0\n",
       " 199785    1\n",
       " 106141    1\n",
       " 190441    1\n",
       " 268680    1\n",
       " Name: TripType, dtype: int64)"
      ]
     },
     "execution_count": 4,
     "metadata": {},
     "output_type": "execute_result"
    }
   ],
   "source": [
    "from sklearn.model_selection import train_test_split\n",
    "from sklearn.preprocessing import StandardScaler\n",
    "\n",
    "# Define the target variable:\n",
    "# 1 for \"long trip\" (>=5 km)\n",
    "# 0 for \"short trip\" (<5 km)\n",
    "data['TripType'] = (data['Distance'] >= 5).astype(int)\n",
    "\n",
    "# Select features and target\n",
    "features = ['StartLat', 'StartLon', 'EndLat', 'EndLon', 'Distance']\n",
    "target = 'TripType'\n",
    "\n",
    "X = data[features]\n",
    "y = data[target]\n",
    "\n",
    "# Split into train and test sets\n",
    "X_train, X_test, y_train, y_test = train_test_split(X, y, test_size=0.3, random_state=42, stratify=y)\n",
    "\n",
    "# Normalize the features for better performance with SVM and k-NN\n",
    "scaler = StandardScaler()\n",
    "X_train_scaled = scaler.fit_transform(X_train)\n",
    "X_test_scaled = scaler.transform(X_test)\n",
    "\n",
    "X_train_scaled[:5], y_train[:5]  # Display some of the processed data\n"
   ]
  },
  {
   "cell_type": "code",
   "execution_count": 13,
   "id": "17148b54-772b-4ea2-bbd2-fdea252b57e0",
   "metadata": {},
   "outputs": [
    {
     "name": "stdout",
     "output_type": "stream",
     "text": [
      "SVM classification report:\n",
      "              precision    recall  f1-score   support\n",
      "\n",
      "           0       1.00      1.00      1.00     26025\n",
      "           1       1.00      1.00      1.00     55764\n",
      "\n",
      "    accuracy                           1.00     81789\n",
      "   macro avg       1.00      1.00      1.00     81789\n",
      "weighted avg       1.00      1.00      1.00     81789\n",
      "\n",
      "k-nn classification report:\n",
      "              precision    recall  f1-score   support\n",
      "\n",
      "           0       0.99      0.99      0.99     26025\n",
      "           1       1.00      0.99      0.99     55764\n",
      "\n",
      "    accuracy                           0.99     81789\n",
      "   macro avg       0.99      0.99      0.99     81789\n",
      "weighted avg       0.99      0.99      0.99     81789\n",
      "\n",
      "SVM accuracy score: 0.9992541784347528\n",
      "k-nn accuracy score: 0.9992541784347528\n"
     ]
    }
   ],
   "source": [
    "from sklearn.svm import SVC\n",
    "from sklearn.neighbors import KNeighborsClassifier\n",
    "from sklearn.metrics import classification_report, accuracy_score\n",
    "pd.set_option(\"display.max_columns\", None)  # Show all columns\n",
    "pd.set_option(\"display.width\", 1000)       # Set a large display width\n",
    "pd.set_option(\"display.max_colwidth\", None)  # Make sure no columns are not cutoff\n",
    "# Train an SVM model\n",
    "svm_model = SVC(kernel='linear', random_state=42)\n",
    "svm_model.fit(X_train_scaled, y_train)\n",
    "\n",
    "# Train a k-NN model\n",
    "knn_model = KNeighborsClassifier(n_neighbors=5)  # Using 5 neighbors as default\n",
    "knn_model.fit(X_train_scaled, y_train)\n",
    "\n",
    "# Evaluate both models\n",
    "svm_predictions = svm_model.predict(X_test_scaled)\n",
    "knn_predictions = knn_model.predict(X_test_scaled)\n",
    "\n",
    "# Generate classification reports\n",
    "svm_report = classification_report(y_test, svm_predictions)\n",
    "knn_report = classification_report(y_test, knn_predictions)\n",
    "\n",
    "# Calculate accuracy scores\n",
    "svm_accuracy = accuracy_score(y_test, svm_predictions)\n",
    "knn_accuracy = accuracy_score(y_test, knn_predictions)\n",
    "\n",
    "print(\"SVM classification report:\")\n",
    "print(svm_report)\n",
    "print(\"k-nn classification report:\")\n",
    "print(knn_report)\n",
    "print(f\"SVM accuracy score: {svm_accuracy}\")\n",
    "print(f\"k-nn accuracy score: {svm_accuracy}\")\n"
   ]
  }
 ],
 "metadata": {
  "kernelspec": {
   "display_name": "Python 3 (ipykernel)",
   "language": "python",
   "name": "python3"
  },
  "language_info": {
   "codemirror_mode": {
    "name": "ipython",
    "version": 3
   },
   "file_extension": ".py",
   "mimetype": "text/x-python",
   "name": "python",
   "nbconvert_exporter": "python",
   "pygments_lexer": "ipython3",
   "version": "3.13.0"
  }
 },
 "nbformat": 4,
 "nbformat_minor": 5
}
